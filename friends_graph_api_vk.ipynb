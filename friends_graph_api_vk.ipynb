{
 "cells": [
  {
   "cell_type": "markdown",
   "metadata": {},
   "source": [
    "Использование networkx и matplotlib для построения графа, узлы - это друзья. Количество узлов условно до 20. Узлы обозначены \"Имя\". Входные данные загружаются из файла json.\n",
    "\n",
    "Исходный файл с друзьями получаю по API VK."
   ]
  },
  {
   "cell_type": "code",
   "execution_count": null,
   "metadata": {},
   "outputs": [],
   "source": [
    "import numpy as np\n",
    "import pandas as pd\n",
    "import sys\n",
    "import requests as req\n",
    "import json\n",
    "from lxml import objectify\n",
    "import time\n",
    "from random import randint\n",
    "import networkx as nx\n",
    "import matplotlib.pyplot as plt"
   ]
  },
  {
   "cell_type": "code",
   "execution_count": null,
   "metadata": {},
   "outputs": [],
   "source": [
    "token_nom= 'your_s token'\n",
    "app_nom = 'your_s number app'\n",
    "user_id = 'your_s id'"
   ]
  },
  {
   "cell_type": "code",
   "execution_count": null,
   "metadata": {},
   "outputs": [],
   "source": [
    "url = 'https://api.vk.com/method/friends.get?v=5.131'\n",
    "url_get_fr = 'https://api.vk.com/method/friends.getMutual?v=5.131'\n",
    "url_get_info = 'https://api.vk.com/method/users.get?v=5.131'\n",
    "\n",
    "params = {'user_id': user_id,\n",
    "         'fields':'id, first_name, last_name,',\n",
    "         'access_token': token_nom}\n",
    "r = req.get(url, params = params)\n",
    "otvet = r.json()\n",
    "# otvet\n",
    "print(otvet['response']['count'])\n",
    "result_list = {'source':[], 'id': [], 'name': []}\n",
    "friendships = []\n",
    "\n",
    "for i in otvet['response']['items'][:20]:\n",
    "    result_list['id'].append(i['id'])\n",
    "    result_list['name'].append(i['first_name']+' '+i['last_name'])\n",
    "    result_list['source'].append('старт')\n",
    "    friendships.append(('старт', i['first_name']+' '+i['last_name']))\n",
    "\n",
    "df = pd.DataFrame(data=result_list)\n",
    "\n",
    "with open('Friends', 'w', encoding='utf-8') as file:\n",
    "    df.to_json(file, force_ascii=False)\n",
    "\n",
    "\n",
    "for i in range(4):\n",
    "    \n",
    "    params_get_fr = {\n",
    "    'user_id':user_id,\n",
    "    'source_uid':df.iloc[i]['id'],\n",
    "    'target_uid':df.iloc[i+1]['id'],\n",
    "    'access_token': token_nom\n",
    "    }\n",
    "    \n",
    "    time.sleep(randint(1,3))\n",
    "    resp_friend_mut = req.get(url_get_fr, params=params_get_fr)\n",
    "    print('\\n')\n",
    "\n",
    "    for j in resp_friend_mut.json()['response']:\n",
    "        \n",
    "        params_get_user = {\n",
    "        'user_ids': j,\n",
    "        'access_token': token_nom \n",
    "        }\n",
    "        time.sleep(randint(1,3))\n",
    "        resp_get_user = req.get(url_get_info, params = params_get_user)\n",
    "        print(resp_get_user.json()['response'][0]['first_name']+' '+resp_get_user.json()['response'][0]['last_name']) \n",
    "        friendships.append((df.iloc[i]['name'], resp_get_user.json()['response'][0]['first_name']+' '+resp_get_user.json()['response'][0]['last_name']))\n",
    "        friendships.append((df.iloc[i+1]['name'], resp_get_user.json()['response'][0]['first_name']+' '+ resp_get_user.json()['response'][0]['last_name']))\n",
    "    \n",
    "    print('друг : ',df.iloc[i]['id'],df.iloc[i]['name'])\n",
    "    print('следующий друг : ', df.iloc[i+1]['id'],df.iloc[i+1]['name'])\n",
    "    print('список : ', resp_friend_mut.json()['response'])\n",
    "    \n",
    "    \n",
    "G=nx.Graph()\n",
    "G.add_edges_from(friendships)\n",
    "nx.draw(G, with_labels=True, node_color='g', node_size = 30, cmap = plt.cm.RdYlBu, font_size = 10)\n",
    "plt.show()\n"
   ]
  }
 ],
 "metadata": {
  "kernelspec": {
   "display_name": "Python 3.9.12 ('base')",
   "language": "python",
   "name": "python3"
  },
  "language_info": {
   "name": "python",
   "version": "3.9.12"
  },
  "orig_nbformat": 4,
  "vscode": {
   "interpreter": {
    "hash": "ad2bdc8ecc057115af97d19610ffacc2b4e99fae6737bb82f5d7fb13d2f2c186"
   }
  }
 },
 "nbformat": 4,
 "nbformat_minor": 2
}
